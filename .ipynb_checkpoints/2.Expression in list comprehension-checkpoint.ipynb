{
 "cells": [
  {
   "cell_type": "code",
   "execution_count": 5,
   "id": "0c0d492f-9283-4186-aa13-bb38fe0f15f3",
   "metadata": {},
   "outputs": [],
   "source": [
    "numbers = [3, 7, 2, 10]"
   ]
  },
  {
   "cell_type": "code",
   "execution_count": 6,
   "id": "d37b555f-445c-4005-a471-b17d7fad9642",
   "metadata": {},
   "outputs": [
    {
     "data": {
      "text/plain": [
       "[9, 49, 4, 100]"
      ]
     },
     "execution_count": 6,
     "metadata": {},
     "output_type": "execute_result"
    }
   ],
   "source": [
    "squares = []\n",
    "for num in numbers:\n",
    "    squares.append(num ** 2)\n",
    "\n",
    "squares"
   ]
  },
  {
   "cell_type": "code",
   "execution_count": 8,
   "id": "d6146252-4d0c-4b54-85c7-0484ea9ac10f",
   "metadata": {},
   "outputs": [
    {
     "data": {
      "text/plain": [
       "[81, 2401, 16, 10000]"
      ]
     },
     "execution_count": 8,
     "metadata": {},
     "output_type": "execute_result"
    }
   ],
   "source": [
    "for index, num in enumerate(numbers):\n",
    "    numbers[index] = num ** 2\n",
    "numbers"
   ]
  }
 ],
 "metadata": {
  "kernelspec": {
   "display_name": "Python 3 (ipykernel)",
   "language": "python",
   "name": "python3"
  },
  "language_info": {
   "codemirror_mode": {
    "name": "ipython",
    "version": 3
   },
   "file_extension": ".py",
   "mimetype": "text/x-python",
   "name": "python",
   "nbconvert_exporter": "python",
   "pygments_lexer": "ipython3",
   "version": "3.13.3"
  }
 },
 "nbformat": 4,
 "nbformat_minor": 5
}
