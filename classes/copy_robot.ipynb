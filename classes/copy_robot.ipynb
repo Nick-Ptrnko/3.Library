{
 "cells": [
  {
   "metadata": {
    "ExecuteTime": {
     "end_time": "2025-10-09T11:57:25.337779Z",
     "start_time": "2025-10-09T11:57:25.333344Z"
    }
   },
   "cell_type": "code",
   "source": [
    "class Robot:\n",
    "    def __init__(self, model: str, constructor: str, serial_no: int) -> None:\n",
    "        self.model = model\n",
    "        self.constructor = constructor\n",
    "        self.serial_no = serial_no"
   ],
   "id": "2e1fccf89cc43ac",
   "outputs": [],
   "execution_count": 2
  },
  {
   "metadata": {
    "ExecuteTime": {
     "end_time": "2025-10-09T11:59:28.527711Z",
     "start_time": "2025-10-09T11:59:28.522779Z"
    }
   },
   "cell_type": "code",
   "source": [
    "robot = Robot('g135', 'Alex', 1664)\n",
    "new_serial_no = robot.serial_no + 1\n",
    "print(new_serial_no)"
   ],
   "id": "ab3ac65d92a0e5c2",
   "outputs": [
    {
     "name": "stdout",
     "output_type": "stream",
     "text": [
      "1665\n"
     ]
    }
   ],
   "execution_count": 4
  }
 ],
 "metadata": {
  "kernelspec": {
   "display_name": "Python 3",
   "language": "python",
   "name": "python3"
  },
  "language_info": {
   "codemirror_mode": {
    "name": "ipython",
    "version": 2
   },
   "file_extension": ".py",
   "mimetype": "text/x-python",
   "name": "python",
   "nbconvert_exporter": "python",
   "pygments_lexer": "ipython2",
   "version": "2.7.6"
  }
 },
 "nbformat": 4,
 "nbformat_minor": 5
}
