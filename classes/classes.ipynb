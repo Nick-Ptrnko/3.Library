{
 "cells": [
  {
   "cell_type": "code",
   "id": "initial_id",
   "metadata": {
    "collapsed": true,
    "ExecuteTime": {
     "end_time": "2025-10-08T18:35:15.970044Z",
     "start_time": "2025-10-08T18:35:15.967534Z"
    }
   },
   "source": [
    "class User:\n",
    "    pass"
   ],
   "outputs": [],
   "execution_count": 3
  },
  {
   "metadata": {
    "ExecuteTime": {
     "end_time": "2025-10-08T18:39:13.787437Z",
     "start_time": "2025-10-08T18:39:13.780892Z"
    }
   },
   "cell_type": "code",
   "source": "user1 = User()",
   "id": "949b206055a1ceb2",
   "outputs": [],
   "execution_count": 7
  },
  {
   "metadata": {
    "ExecuteTime": {
     "end_time": "2025-10-08T19:04:55.532780Z",
     "start_time": "2025-10-08T19:04:55.527625Z"
    }
   },
   "cell_type": "code",
   "source": [
    "user1.name = \"John\"\n",
    "user1.age = \"28\""
   ],
   "id": "c59e07ce05dff815",
   "outputs": [],
   "execution_count": 15
  },
  {
   "metadata": {
    "ExecuteTime": {
     "end_time": "2025-10-08T18:48:32.837747Z",
     "start_time": "2025-10-08T18:48:32.834325Z"
    }
   },
   "cell_type": "code",
   "source": [
    "user2 = User()\n",
    "\n",
    "user2.name = \"Jane\"\n",
    "user2.age = \"29\""
   ],
   "id": "466e3147d7ecbbc2",
   "outputs": [],
   "execution_count": 10
  },
  {
   "metadata": {
    "ExecuteTime": {
     "end_time": "2025-10-08T18:50:03.481432Z",
     "start_time": "2025-10-08T18:50:03.476864Z"
    }
   },
   "cell_type": "code",
   "source": "print(user1.name, user1.age)",
   "id": "b5410240f9be5257",
   "outputs": [
    {
     "name": "stdout",
     "output_type": "stream",
     "text": [
      "John 28\n"
     ]
    }
   ],
   "execution_count": 12
  },
  {
   "metadata": {
    "ExecuteTime": {
     "end_time": "2025-10-08T18:52:06.384509Z",
     "start_time": "2025-10-08T18:52:06.380855Z"
    }
   },
   "cell_type": "code",
   "source": [
    "class User:\n",
    "    def __init__(self, name, age):\n",
    "        self.name = name\n",
    "        self.age = age"
   ],
   "id": "ad13d18b21ccb81d",
   "outputs": [],
   "execution_count": 13
  },
  {
   "metadata": {
    "ExecuteTime": {
     "end_time": "2025-10-08T19:07:00.714711Z",
     "start_time": "2025-10-08T19:07:00.711499Z"
    }
   },
   "cell_type": "code",
   "source": [
    "user1 = User(\"Микола\", 45)\n",
    "user2 = User(\"Оксана\", 43)"
   ],
   "id": "b4a2900ce93fcfc0",
   "outputs": [],
   "execution_count": 17
  },
  {
   "metadata": {
    "ExecuteTime": {
     "end_time": "2025-10-08T19:07:21.560694Z",
     "start_time": "2025-10-08T19:07:21.549405Z"
    }
   },
   "cell_type": "code",
   "source": "user1.name",
   "id": "21380d755fe26adc",
   "outputs": [
    {
     "data": {
      "text/plain": [
       "'Микола'"
      ]
     },
     "execution_count": 18,
     "metadata": {},
     "output_type": "execute_result"
    }
   ],
   "execution_count": 18
  },
  {
   "metadata": {},
   "cell_type": "markdown",
   "source": [
    "Типу коментар?\n",
    "Чи що?"
   ],
   "id": "b557c082fe8f4ac4"
  },
  {
   "metadata": {},
   "cell_type": "code",
   "outputs": [],
   "execution_count": null,
   "source": "",
   "id": "8280ac945f7004c1"
  }
 ],
 "metadata": {
  "kernelspec": {
   "display_name": "Python 3",
   "language": "python",
   "name": "python3"
  },
  "language_info": {
   "codemirror_mode": {
    "name": "ipython",
    "version": 2
   },
   "file_extension": ".py",
   "mimetype": "text/x-python",
   "name": "python",
   "nbconvert_exporter": "python",
   "pygments_lexer": "ipython2",
   "version": "2.7.6"
  }
 },
 "nbformat": 4,
 "nbformat_minor": 5
}
