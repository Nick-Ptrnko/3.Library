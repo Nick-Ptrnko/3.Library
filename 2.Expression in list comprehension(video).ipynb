{
 "cells": [
  {
   "cell_type": "code",
   "execution_count": 31,
   "id": "0c0d492f-9283-4186-aa13-bb38fe0f15f3",
   "metadata": {},
   "outputs": [
    {
     "data": {
      "text/plain": [
       "139917733870400"
      ]
     },
     "execution_count": 31,
     "metadata": {},
     "output_type": "execute_result"
    }
   ],
   "source": [
    "numbers = [3, 7, 2, 10]\n",
    "id(numbers)"
   ]
  },
  {
   "cell_type": "code",
   "execution_count": 32,
   "id": "d37b555f-445c-4005-a471-b17d7fad9642",
   "metadata": {},
   "outputs": [
    {
     "data": {
      "text/plain": [
       "[9, 49, 4, 100]"
      ]
     },
     "execution_count": 32,
     "metadata": {},
     "output_type": "execute_result"
    }
   ],
   "source": [
    "squares = []\n",
    "for num in numbers:\n",
    "    squares.append(num ** 2)\n",
    "squares"
   ]
  },
  {
   "cell_type": "code",
   "execution_count": 33,
   "id": "d6146252-4d0c-4b54-85c7-0484ea9ac10f",
   "metadata": {},
   "outputs": [
    {
     "data": {
      "text/plain": [
       "([9, 49, 4, 100], 139917733870400)"
      ]
     },
     "execution_count": 33,
     "metadata": {},
     "output_type": "execute_result"
    }
   ],
   "source": [
    "for index, num in enumerate(numbers):\n",
    "    numbers[index] = num ** 2\n",
    "numbers, id(numbers)"
   ]
  },
  {
   "cell_type": "code",
   "execution_count": 28,
   "id": "ad3b0f5b-f9af-4f5a-a07b-572a0438c782",
   "metadata": {},
   "outputs": [
    {
     "data": {
      "text/plain": [
       "[9, 49, 4, 100]"
      ]
     },
     "execution_count": 28,
     "metadata": {},
     "output_type": "execute_result"
    }
   ],
   "source": [
    "squares2 = [num ** 2 for num in numbers]\n",
    "squares2"
   ]
  },
  {
   "cell_type": "code",
   "execution_count": 29,
   "id": "eb326191-fb6b-421a-a7e7-265328077e8a",
   "metadata": {},
   "outputs": [
    {
     "data": {
      "text/plain": [
       "139917736260352"
      ]
     },
     "execution_count": 29,
     "metadata": {},
     "output_type": "execute_result"
    }
   ],
   "source": [
    "numbers = [3, 7, 2, 10]\n",
    "id(numbers)"
   ]
  },
  {
   "cell_type": "code",
   "execution_count": 30,
   "id": "242500f7-0d79-463c-a416-59663a4ba81f",
   "metadata": {},
   "outputs": [
    {
     "data": {
      "text/plain": [
       "([9, 49, 4, 100], 139917733869376)"
      ]
     },
     "execution_count": 30,
     "metadata": {},
     "output_type": "execute_result"
    }
   ],
   "source": [
    "numbers = [num ** 2 for num in numbers]\n",
    "numbers, id(numbers)"
   ]
  },
  {
   "cell_type": "code",
   "execution_count": null,
   "id": "f294805d-03ab-45df-a4d0-8257ea9575e2",
   "metadata": {},
   "outputs": [],
   "source": []
  }
 ],
 "metadata": {
  "kernelspec": {
   "display_name": "Python 3 (ipykernel)",
   "language": "python",
   "name": "python3"
  },
  "language_info": {
   "codemirror_mode": {
    "name": "ipython",
    "version": 3
   },
   "file_extension": ".py",
   "mimetype": "text/x-python",
   "name": "python",
   "nbconvert_exporter": "python",
   "pygments_lexer": "ipython3",
   "version": "3.13.3"
  }
 },
 "nbformat": 4,
 "nbformat_minor": 5
}
